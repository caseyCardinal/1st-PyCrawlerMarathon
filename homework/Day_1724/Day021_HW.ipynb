{
 "cells": [
  {
   "cell_type": "markdown",
   "metadata": {},
   "source": [
    "# Ettoday 網路爬蟲實作練習\n",
    "\n",
    "\n",
    "* 能夠利用 Request + BeatifulSour 撰寫爬蟲，並存放到合適的資料結構\n"
   ]
  },
  {
   "cell_type": "markdown",
   "metadata": {},
   "source": [
    "## 作業目標\n",
    "\n",
    "根據範例：\n",
    "\n",
    "1. 取出今天所有的新聞\n",
    "2. 取出現在時間兩小時內的新聞\n",
    "3. 根據範例，取出三天前下午三點到五點的新聞"
   ]
  },
  {
   "cell_type": "markdown",
   "metadata": {},
   "source": [
    "## 1. 取出今天所有的新聞"
   ]
  },
  {
   "cell_type": "code",
   "execution_count": 1,
   "metadata": {},
   "outputs": [
    {
     "data": {
      "text/plain": [
       "'\\nYour Code\\n'"
      ]
     },
     "execution_count": 1,
     "metadata": {},
     "output_type": "execute_result"
    }
   ],
   "source": [
    "from selenium import webdriver\n",
    "from bs4 import BeautifulSoup\n",
    "\n",
    "browser = webdriver.Chrome(executable_path='D:\\PythonProjects\\Spyder\\chromedriver')\n",
    "browser.get(\"https://www.ettoday.net/news/news-list.htm\")\n",
    "\n",
    "# 每個兩秒鐘自動往下滑 ----------------------------------------------------------\n",
    "import time\n",
    "\n",
    "todayStr = str(datetime.date.today())\n",
    "cnt=todayStr.find('-')\n",
    "if cnt>0:\n",
    "    todayStr=todayStr.replace('-', '/', 2)\n",
    "    \n",
    "# 每個兩秒鐘自動往下滑 --------------------------------------------------\n",
    "forBrk=0\n",
    "for i in range(1000):\n",
    "    time.sleep(2)\n",
    "    browser.execute_script(\"window.scrollTo(0, 10000);\")\n",
    "    # 取得資料，丟到 BeautifulSoup 解析 ------------------------------------\n",
    "    html_source = browser.page_source\n",
    "    soup = BeautifulSoup(html_source, \"html5lib\")\n",
    "\n",
    "    for d in soup.find(class_=\"part_list_2\").find_all('h3'):\n",
    "        tmStr=d.find(class_=\"date\").text\n",
    "        titleDate=tmStr[0:10]\n",
    "        if todayStr==titleDate:\n",
    "            print(d.find(class_=\"date\").text, d.find_all('a')[-1].text)\n",
    "        else:\n",
    "            forBrk=9\n",
    "            break\n",
    "    if forBrk>=1:\n",
    "        break\n",
    "\n",
    "# 關閉瀏覽器 -------------------------------------------------------\n",
    "browser.quit();\n"
   ]
  },
  {
   "cell_type": "markdown",
   "metadata": {},
   "source": [
    "## 2. 取出現在時間兩小時內的新聞"
   ]
  },
  {
   "cell_type": "code",
   "execution_count": 2,
   "metadata": {},
   "outputs": [
    {
     "data": {
      "text/plain": [
       "'\\nYour Code\\n'"
      ]
     },
     "execution_count": 2,
     "metadata": {},
     "output_type": "execute_result"
    }
   ],
   "source": [
    "# 最近兩HR.新聞 ------------------------------------------------------------\n",
    "import datetime\n",
    "\n",
    "tmNow = datetime.datetime.now().replace(microsecond=0)\n",
    "nowSecs=tmNow.timestamp()\n",
    "hrSecs=60*60\n",
    "brkSecs=2*hrSecs\n",
    "\n",
    "url = 'https://www.ettoday.net/news/news-list.htm'\n",
    "r = requests.get(url)\n",
    "soup = BeautifulSoup(r.text, \"html5lib\")\n",
    "\n",
    "for d in soup.find(class_=\"part_list_2\").find_all('h3'):\n",
    "    tmStr=d.find(class_=\"date\").text\n",
    "    datetimeTitle = datetime.datetime.strptime(tmStr, '%Y/%m/%d %H:%M')\n",
    "    titleSecs=datetimeTitle.timestamp()\n",
    "    tmDiff=nowSecs-titleSecs\n",
    "    if tmDiff>= brkSecs:\n",
    "        break\n",
    "    print(d.find(class_=\"date\").text, d.find_all('a')[-1].text)\n"
   ]
  },
  {
   "cell_type": "markdown",
   "metadata": {},
   "source": [
    "## 3. 根據範例，取出三天前下午三點到五點的新聞"
   ]
  },
  {
   "cell_type": "code",
   "execution_count": 1,
   "metadata": {},
   "outputs": [
    {
     "data": {
      "text/plain": [
       "'\\nYour Code\\n'"
      ]
     },
     "execution_count": 1,
     "metadata": {},
     "output_type": "execute_result"
    }
   ],
   "source": [
    "from selenium import webdriver\n",
    "from selenium.webdriver.support.ui import Select\n",
    "from bs4 import BeautifulSoup\n",
    "import time\n",
    "import datetime\n",
    "\n",
    "# time to sec ------------------------------------------------------\n",
    "def t2s(t, cnt):\n",
    "    if(cnt>1):\n",
    "        h,m,s = t.strip().split(\":\")\n",
    "    else:\n",
    "        h,m = t.strip().split(\":\")\n",
    "        s='0'\n",
    "    return int(h) * 3600 + int(m) * 60 + int(s)\n",
    "\n",
    "# 打開瀏覽器 -------------------------------------------------------\n",
    "browser = webdriver.Chrome(executable_path='D:\\PythonProjects\\Spyder\\chromedriver')\n",
    "browser.get(\"https://www.ettoday.net/news/news-list.htm\")\n",
    "\n",
    "tmNow = datetime.datetime.now().replace(microsecond=0)\n",
    "ddelay = datetime.timedelta(days=3)\n",
    "reqTm=tmNow-ddelay\n",
    "strYr=str(reqTm.year)\n",
    "strMn=str(reqTm.month)\n",
    "strDy=str(reqTm.day)\n",
    "\n",
    "selectYear = Select(browser.find_element_by_id(\"selY\"))\n",
    "selectYear.select_by_value(strYr)\n",
    "selectMon = Select(browser.find_element_by_id(\"selM\"))\n",
    "selectMon.select_by_value(strMn)\n",
    "selectDay = Select(browser.find_element_by_id(\"selD\"))\n",
    "selectDay.select_by_value(strDy)\n",
    "\n",
    "browser.find_element_by_id('button').click()\n",
    "\n",
    "# 每個兩秒鐘自動往下滑 --------------------------------------------------\n",
    "strtSecs=t2s('15:00:00', 2)\n",
    "endSecs=t2s('17:00:00', 2)\n",
    "\n",
    "forBrk=0\n",
    "for i in range(200):\n",
    "    time.sleep(2)\n",
    "    browser.execute_script(\"window.scrollTo(0, 10000);\")\n",
    "    # 取得資料，丟到 BeautifulSoup 解析 ------------------------------------\n",
    "    html_source = browser.page_source\n",
    "    soup = BeautifulSoup(html_source, \"html5lib\")\n",
    "\n",
    "    for d in soup.find(class_=\"part_list_2\").find_all('h3'):\n",
    "        tmStr=d.find(class_=\"date\").text\n",
    "        titleSecs=t2s(tmStr[11:16], 1)\n",
    "        if (titleSecs<=endSecs) and (titleSecs>=strtSecs):\n",
    "            print(d.find(class_=\"date\").text, d.find_all('a')[-1].text)\n",
    "        if titleSecs<strtSecs:\n",
    "            forBrk=9\n",
    "            break\n",
    "    if forBrk>=1:\n",
    "        break\n",
    "\n",
    "# 關閉瀏覽器 -------------------------------------------------------\n",
    "browser.quit();\n"
   ]
  },
  {
   "cell_type": "code",
   "execution_count": null,
   "metadata": {},
   "outputs": [],
   "source": []
  },
  {
   "cell_type": "code",
   "execution_count": null,
   "metadata": {},
   "outputs": [],
   "source": []
  },
  {
   "cell_type": "code",
   "execution_count": null,
   "metadata": {},
   "outputs": [],
   "source": []
  },
  {
   "cell_type": "code",
   "execution_count": null,
   "metadata": {},
   "outputs": [],
   "source": []
  }
 ],
 "metadata": {
  "kernelspec": {
   "display_name": "Python 3",
   "language": "python",
   "name": "python3"
  },
  "language_info": {
   "codemirror_mode": {
    "name": "ipython",
    "version": 3
   },
   "file_extension": ".py",
   "mimetype": "text/x-python",
   "name": "python",
   "nbconvert_exporter": "python",
   "pygments_lexer": "ipython3",
   "version": "3.7.4"
  }
 },
 "nbformat": 4,
 "nbformat_minor": 4
}
