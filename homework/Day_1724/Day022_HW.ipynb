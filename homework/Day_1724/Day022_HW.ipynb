{
 "cells": [
  {
   "cell_type": "markdown",
   "metadata": {},
   "source": [
    "# 空氣污染監測網 網路爬蟲實作練習\n",
    "\n",
    "\n",
    "* 能夠利用 selenium + BeautifulSoup 撰寫爬蟲，並存放到合適的資料結構\n"
   ]
  },
  {
   "cell_type": "markdown",
   "metadata": {},
   "source": [
    "## 作業目標\n",
    "\n",
    "根據範例 ，完成以下問題：\n",
    "\n",
    "* ① 取出 台北市士林區 2018/01 – 2018/08 的 SO2 資料\n",
    "* ② 取出 台北市士林區 2018/01 – 2018/08 的 SO2、CO 資料\n",
    "\n",
    "\n",
    "\n"
   ]
  },
  {
   "cell_type": "markdown",
   "metadata": {},
   "source": [
    "### ① 取出 台北市士林區 2018/01 – 2018/08 的 SO2 資料"
   ]
  },
  {
   "cell_type": "code",
   "execution_count": null,
   "metadata": {},
   "outputs": [],
   "source": [
    "from selenium import webdriver\n",
    "from selenium.webdriver.support.ui import Select\n",
    "from bs4 import BeautifulSoup\n",
    "import pandas as pd\n",
    "\n",
    "browser = webdriver.Chrome(executable_path='D:\\PythonProjects\\Spyder\\chromedriver')\n",
    "browser.get(\"http://taqm.epa.gov.tw/taqm/tw/MonthlyAverage.aspx\")\n",
    "\n",
    "selectSite = Select(browser.find_element_by_id(\"ctl05_ddlSite\"))\n",
    "selectSite.select_by_value('11')\n",
    "selectYear = Select(browser.find_element_by_id(\"ctl05_ddlYear\"))\n",
    "selectYear.select_by_value('2018')\n",
    "\n",
    "# 取得資料（等瀏覽器資料出現後才執行）\n",
    "browser.find_element_by_id('ctl05_btnQuery').click()\n",
    "\n",
    "html_source = browser.page_source\n",
    "soup = BeautifulSoup(html_source, 'html.parser')\n",
    "table = soup.find('table', class_='TABLE_G')\n",
    "table\n",
    "\n",
    "for data in table.find_all('tr', style=\"color:Black;\"):     \n",
    "    itm=data.find('td', style=\"white-space:nowrap;\") \n",
    "    if itm==None:\n",
    "        itm=data.find('td')\n",
    "        tmData=itm.text\n",
    "        valGotten=itm.find_next_sibling().text\n",
    "        print(tmData, valGotten)\n",
    "    else:\n",
    "        itmTxt=itm.text\n",
    "        untData=itm.find_next_sibling()\n",
    "        if itmTxt!='SO2':\n",
    "            break\n",
    "        print(itm.text, untData.text)\n",
    "        tmData=untData.find_next_sibling()\n",
    "        valGotten=tmData.find_next_sibling()\n",
    "        print(tmData.text, valGotten.text)\n"
   ]
  },
  {
   "cell_type": "markdown",
   "metadata": {},
   "source": [
    "### ② 取出 台北市士林區 2018/01 – 2018/08 的 SO2、CO 資料"
   ]
  },
  {
   "cell_type": "code",
   "execution_count": null,
   "metadata": {},
   "outputs": [],
   "source": [
    "from selenium import webdriver\n",
    "from selenium.webdriver.support.ui import Select\n",
    "from bs4 import BeautifulSoup\n",
    "import pandas as pd\n",
    "\n",
    "browser = webdriver.Chrome(executable_path='D:\\PythonProjects\\Spyder\\chromedriver')\n",
    "browser.get(\"http://taqm.epa.gov.tw/taqm/tw/MonthlyAverage.aspx\")\n",
    "\n",
    "selectSite = Select(browser.find_element_by_id(\"ctl05_ddlSite\"))\n",
    "selectSite.select_by_value('11')\n",
    "selectYear = Select(browser.find_element_by_id(\"ctl05_ddlYear\"))\n",
    "selectYear.select_by_value('2018')\n",
    "\n",
    "# 取得資料（等瀏覽器資料出現後才執行）\n",
    "browser.find_element_by_id('ctl05_btnQuery').click()\n",
    "\n",
    "html_source = browser.page_source\n",
    "soup = BeautifulSoup(html_source, 'html.parser')\n",
    "table = soup.find('table', class_='TABLE_G')\n",
    "table\n",
    "\n",
    "for data in table.find_all('tr', style=\"color:Black;\"):     \n",
    "    itm=data.find('td', style=\"white-space:nowrap;\") \n",
    "    if itm==None:\n",
    "        itm=data.find('td')\n",
    "        tmData=itm.text\n",
    "        valGotten=itm.find_next_sibling().text\n",
    "        print(tmData, valGotten)\n",
    "    else:\n",
    "        itmTxt=itm.text\n",
    "        untData=itm.find_next_sibling()\n",
    "        if (itmTxt!='SO2') and (itmTxt!='CO'):\n",
    "            break\n",
    "        print(itm.text, untData.text)\n",
    "        tmData=untData.find_next_sibling()\n",
    "        valGotten=tmData.find_next_sibling()\n",
    "        print(tmData.text, valGotten.text)\n"
   ]
  },
  {
   "cell_type": "code",
   "execution_count": null,
   "metadata": {},
   "outputs": [],
   "source": []
  }
 ],
 "metadata": {
  "kernelspec": {
   "display_name": "Python 3",
   "language": "python",
   "name": "python3"
  },
  "language_info": {
   "codemirror_mode": {
    "name": "ipython",
    "version": 3
   },
   "file_extension": ".py",
   "mimetype": "text/x-python",
   "name": "python",
   "nbconvert_exporter": "python",
   "pygments_lexer": "ipython3",
   "version": "3.7.4"
  }
 },
 "nbformat": 4,
 "nbformat_minor": 4
}
