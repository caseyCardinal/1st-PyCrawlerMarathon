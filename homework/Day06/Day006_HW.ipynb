{
 "cells": [
  {
   "cell_type": "markdown",
   "metadata": {},
   "source": [
    "# API 資料串接 - 以 知乎 API 實作範例\n",
    "\n",
    "\n",
    "\n",
    "* 了解知乎 API 使用方式與回傳內容\n",
    "* 撰寫程式存取 API 且添加標頭\n",
    "\n",
    "\n"
   ]
  },
  {
   "cell_type": "markdown",
   "metadata": {},
   "source": [
    "## 作業目標\n",
    "\n",
    "* 根據範例提供的 API ，完成以下問題：\n",
    "\n",
    "    1. 取出知乎問題發問時間\n",
    "    2. 取出第一筆與最後一筆回答的時間\n"
   ]
  },
  {
   "cell_type": "markdown",
   "metadata": {},
   "source": [
    "### 1. 取出知乎問題發問時間"
   ]
  },
  {
   "cell_type": "code",
   "execution_count": 2,
   "metadata": {},
   "outputs": [
    {
     "data": {
      "text/plain": [
       "'\\nYour Code\\n'"
      ]
     },
     "execution_count": 2,
     "metadata": {},
     "output_type": "execute_result"
    }
   ],
   "source": [
    "# 1. 取出知乎問題發問時間\n",
    "import requests\n",
    "import json\n",
    "import time\n",
    "\n",
    "headers = {'user-agent': 'my-app/0.0.1'}\n",
    "r = requests.get('https://www.zhihu.com/api/v4/questions/55493026/answers',headers=headers)\n",
    "if r.status_code == requests.codes.ok:\n",
    "    print('requests.get OK!')\n",
    "else:\n",
    "    print('requests.get FAIL!')\n",
    "    \n",
    "response=r.text\n",
    "data=json.loads(response)\n",
    "\n",
    "# 回傳幾筆資料 ------------------------------------------------------\n",
    "idCnt=0\n",
    "for d in data['data']:\n",
    "    print(d['id'])\n",
    "    idCnt+=1\n",
    "print('資料筆數: '+(idCnt))\n",
    "\n",
    "d0=data['data'][0]\n",
    "d0.keys()\n",
    "\n",
    "# 取出知乎問題發問時間」 -------------------------------------------------\n",
    "dTm=d0['question']['created']\n",
    "localtime = time.localtime(dTm)\n",
    "asciiTm=time.asctime( localtime )\n",
    "print(asciiTm)\n"
   ]
  },
  {
   "cell_type": "markdown",
   "metadata": {},
   "source": [
    "### 2. 取出第一筆與最後一筆回答的時間"
   ]
  },
  {
   "cell_type": "code",
   "execution_count": 3,
   "metadata": {},
   "outputs": [
    {
     "data": {
      "text/plain": [
       "'\\nYour Code\\n'"
      ]
     },
     "execution_count": 3,
     "metadata": {},
     "output_type": "execute_result"
    }
   ],
   "source": [
    "# 2. 取出第一筆與最後一筆回答的時間\n",
    "#取出第一筆與最後一筆回答的時間 ----------------------------------------------    \n",
    "dTm=d0['created_time']\n",
    "localtime = time.localtime(dTm)\n",
    "asciiTm=time.asctime( localtime )\n",
    "print(asciiTm)\n",
    "\n",
    "dLst=data['data'][(idCnt-1)]\n",
    "dTm=dLst['created_time']\n",
    "localtime = time.localtime(dTm)\n",
    "asciiTm=time.asctime( localtime )\n",
    "print(asciiTm)"
   ]
  },
  {
   "cell_type": "code",
   "execution_count": null,
   "metadata": {},
   "outputs": [],
   "source": []
  },
  {
   "cell_type": "code",
   "execution_count": null,
   "metadata": {},
   "outputs": [],
   "source": []
  },
  {
   "cell_type": "code",
   "execution_count": null,
   "metadata": {},
   "outputs": [],
   "source": []
  }
 ],
 "metadata": {
  "kernelspec": {
   "display_name": "Python 3",
   "language": "python",
   "name": "python3"
  },
  "language_info": {
   "codemirror_mode": {
    "name": "ipython",
    "version": 3
   },
   "file_extension": ".py",
   "mimetype": "text/x-python",
   "name": "python",
   "nbconvert_exporter": "python",
   "pygments_lexer": "ipython3",
   "version": "3.7.3"
  }
 },
 "nbformat": 4,
 "nbformat_minor": 4
}
