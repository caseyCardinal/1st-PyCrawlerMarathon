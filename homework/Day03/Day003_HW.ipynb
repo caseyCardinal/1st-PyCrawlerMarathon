{
 "cells": [
  {
   "cell_type": "markdown",
   "metadata": {},
   "source": [
    "# Python 下載XML檔案與解析\n",
    "\n",
    "\n",
    "* 了解 xml 檔案格式與內容\n",
    "* 能夠利用套件存取 xml 格式的檔案\n"
   ]
  },
  {
   "cell_type": "markdown",
   "metadata": {},
   "source": [
    "## 作業目標\n",
    "\n",
    "* 比較一下範例檔案中的「File I/O」與「xmltodict」讀出來的內容有什麼差異\n",
    "FILE IO: 字串格式輸出。需要整個字串解析來取得資料\n",
    "XML: DICT 格式\n",
    "\n",
    "* 根據範例檔案的結果：\n",
    "    1. 請問高雄市有多少地區有溫度資料？\n",
    "    2. 請取出每一個地區所記錄的第一個時間點跟溫度\n",
    "    3. 請取出第一個地區所記錄的每一個時間點跟溫度"
   ]
  },
  {
   "cell_type": "markdown",
   "metadata": {},
   "source": [
    "### 比較一下範例檔案中的「File I/O」與「xmltodict」讀出來的內容有什麼差異\n"
   ]
  },
  {
   "cell_type": "code",
   "execution_count": null,
   "metadata": {},
   "outputs": [],
   "source": [
    "FILE IO: print 所有 XML 檔案內容。\n",
    "xmltodict: 取出只想要的資料"
   ]
  },
  {
   "cell_type": "markdown",
   "metadata": {},
   "source": [
    "### 根據範例檔案的結果：\n",
    "\n",
    "1. 請問高雄市有多少地區有溫度資料？\n",
    "2. 請取出每一個地區所記錄的第一個時間點跟溫度\n",
    "3. 請取出第一個地區所記錄的每一個時間點跟溫度"
   ]
  },
  {
   "cell_type": "code",
   "execution_count": 2,
   "metadata": {},
   "outputs": [],
   "source": [
    "# 1. 請問高雄市有多少地區有溫度資料？\n",
    "\n",
    "try:\n",
    "    import xml.etree.cElementTree as ET\n",
    "except ImportError:\n",
    "    import xml.etree.ElementTree as ET\n",
    "\n",
    "# read xml file -------------------------------------------------------\n",
    "#\n",
    "try:\n",
    "    tree = ET.parse('sample.xml')\n",
    "    root = tree.getroot()\n",
    "    \n",
    "# location numbers ----------------------------------------------------\n",
    "    cnt=0\n",
    "    for child in root.iter():\n",
    "        if(child.tag.count('locationName')>0):\n",
    "            print(child.tag, child.text)\n",
    "            cnt=cnt+1\n",
    "            \n",
    "    print('地區總數: '+str(cnt))\n",
    "    \n",
    "    del tree\n",
    "    \n",
    "except FileNotFoundError:\n",
    "     print(\"sample.xml 檔案不存在。\")\n",
    "except IsADirectoryError:\n",
    "  print(\"目錄 only\")\n",
    "\n"
   ]
  },
  {
   "cell_type": "code",
   "execution_count": null,
   "metadata": {},
   "outputs": [],
   "source": [
    "# 2. 請取出每一個地區所記錄的第一個時間點跟溫度\n",
    "\n",
    "'''\n",
    "Your Code\n",
    "'''"
   ]
  },
  {
   "cell_type": "code",
   "execution_count": null,
   "metadata": {},
   "outputs": [],
   "source": [
    "import os\n",
    "import os.path\n",
    "import xmltodict\n",
    "import json\n",
    "\n",
    "if not os.path.isfile(\"sample.xml\"):\n",
    "    print(\"sample.xml not existed!!\")\n",
    "    os._exit(1)\n",
    "    \n",
    "try:\n",
    "    import xml.etree.cElementTree as ET\n",
    "except ImportError:\n",
    "    import xml.etree.ElementTree as ET\n",
    "\n",
    "# read xml file -------------------------------------------------------\n",
    "#\n",
    "try:\n",
    "    tree = ET.parse('sample.xml')\n",
    "    root = tree.getroot()\n",
    "    \n",
    "# 1st temp start time, degree for each location -----------------------\n",
    "    for child in root.iter('{urn:cwb:gov:tw:cwbcommon:0.1}location'):\n",
    "        print(child[0].text)\n",
    "        weather=child[4]\n",
    "        elemText=weather[0].text\n",
    "        strtTm=weather[2][0].text\n",
    "        temp=weather[2][1][0].text\n",
    "        tempUnt=weather[2][1][1].text\n",
    "        if(elemText=='T'):\n",
    "            print('1st Time='+strtTm, ' Temp.='+temp+' '+tempUnt)\n",
    "    \n",
    "    del tree\n",
    "    \n",
    "except FileNotFoundError:\n",
    "     print(\"sample.xml 檔案不存在。\")\n",
    "except IsADirectoryError:\n",
    "  print(\"目錄 only\")\n",
    "\n"
   ]
  },
  {
   "cell_type": "code",
   "execution_count": null,
   "metadata": {},
   "outputs": [],
   "source": [
    "# 3. 請取出第一個地區所記錄的每一個時間點跟溫度\n",
    "\n",
    "'''\n",
    "Your Code\n",
    "'''"
   ]
  },
  {
   "cell_type": "code",
   "execution_count": null,
   "metadata": {},
   "outputs": [],
   "source": [
    "import os\n",
    "import os.path\n",
    "import xmltodict\n",
    "import json\n",
    "\n",
    "if not os.path.isfile(\"sample.xml\"):\n",
    "    print(\"sample.xml not existed!!\")\n",
    "    os._exit(1)\n",
    "    \n",
    "try:\n",
    "    import xml.etree.cElementTree as ET\n",
    "except ImportError:\n",
    "    import xml.etree.ElementTree as ET\n",
    "\n",
    "# read xml file -------------------------------------------------------\n",
    "#\n",
    "try:\n",
    "    tree = ET.parse('sample.xml')\n",
    "    root = tree.getroot()\n",
    "    \n",
    "# all temp start time, degree for 1st  location -----------------------\n",
    "    for child in root.iter('{urn:cwb:gov:tw:cwbcommon:0.1}location'):\n",
    "        print(child[0].text)\n",
    "        for childWthr in child.iter('{urn:cwb:gov:tw:cwbcommon:0.1}time'):\n",
    "            unt=childWthr[1][1].text\n",
    "            if unt=='攝氏度':\n",
    "                print(childWthr[0].text, ' Temp.=', childWthr[1][0].text, ' ',  unt)\n",
    "        break\n",
    "    \n",
    "    del tree\n",
    "    \n",
    "except FileNotFoundError:\n",
    "     print(\"sample.xml 檔案不存在。\")\n",
    "except IsADirectoryError:\n",
    "  print(\"目錄 only\")\n",
    "\n"
   ]
  }
 ],
 "metadata": {
  "kernelspec": {
   "display_name": "Python 3",
   "language": "python",
   "name": "python3"
  },
  "language_info": {
   "codemirror_mode": {
    "name": "ipython",
    "version": 3
   },
   "file_extension": ".py",
   "mimetype": "text/x-python",
   "name": "python",
   "nbconvert_exporter": "python",
   "pygments_lexer": "ipython3",
   "version": "3.7.3"
  }
 },
 "nbformat": 4,
 "nbformat_minor": 4
}
