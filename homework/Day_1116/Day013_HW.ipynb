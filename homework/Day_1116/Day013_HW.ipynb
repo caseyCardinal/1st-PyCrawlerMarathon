{
 "cells": [
  {
   "cell_type": "markdown",
   "metadata": {},
   "source": [
    "# PTT 網路爬蟲實作練習\n",
    "\n",
    "\n",
    "* 能夠利用 Request + BeatifulSour 撰寫爬蟲，並存放到合適的資料結構\n"
   ]
  },
  {
   "cell_type": "markdown",
   "metadata": {},
   "source": [
    "## 作業目標\n",
    "\n",
    "根據範例 ，完成以下問題：\n",
    "\n",
    "* ① 印出最新文章的「作者」「標題」「時間」\n",
    "* ② 印出第一頁所有文章的「作者」「標題」「時間」\n"
   ]
  },
  {
   "cell_type": "markdown",
   "metadata": {},
   "source": [
    "### ① 印出最新文章的「作者」「標題」「時間」"
   ]
  },
  {
   "cell_type": "code",
   "execution_count": null,
   "metadata": {},
   "outputs": [],
   "source": [
    "'''\n",
    "Your Code\n",
    "'''\n",
    "# 1st title, author, time -------------------------------------\n",
    "d=soup.find(class_=\"title\")\n",
    "print(d.text.replace('\\t', '').replace('\\n', ''))\n",
    "try:\n",
    "    newHTML='https://www.ptt.cc'+d.find('a')['href']\n",
    "    newR=requests.get(newHTML)\n",
    "    newSoup = BeautifulSoup(newR.text, \"html5lib\")\n",
    "    rult=newSoup.find_all(class_='article-meta-value')\n",
    "    print('作者: ' + rult[0].text, '時間: ' + rult[3].text)\n",
    "except:\n",
    "    print('new html error')\n"
   ]
  },
  {
   "cell_type": "markdown",
   "metadata": {},
   "source": [
    "### ② 印出第一頁所有文章的「作者」「標題」「時間」"
   ]
  },
  {
   "cell_type": "code",
   "execution_count": null,
   "metadata": {},
   "outputs": [],
   "source": [
    "'''\n",
    "Your Code\n",
    "'''\n",
    "# title, author, time for 1st page ----------------------------\n",
    "def pptTitleInfo(pptURL):\n",
    "    try:\n",
    "        #newHTML='https://www.ptt.cc'+d.find('a')['href']\n",
    "        newR=requests.get(pptURL)\n",
    "        newSoup = BeautifulSoup(newR.text, \"html5lib\")\n",
    "        rult=newSoup.find_all(class_='article-meta-value')\n",
    "        print('作者: ' + rult[0].text, '時間: ' + rult[3].text)\n",
    "    except:\n",
    "        print('new html error')\n",
    " \n",
    "for d in soup.find_all(class_=\"title\"):\n",
    "    print(d.text.replace('\\t', '').replace('\\n', ''))\n",
    "    newHTML='https://www.ptt.cc'+d.find('a')['href']\n",
    "    pptTitleInfo(newHTML)\n"
   ]
  },
  {
   "cell_type": "markdown",
   "metadata": {},
   "source": [
    "### ③ 試著爬爬看其他版的文章"
   ]
  },
  {
   "cell_type": "code",
   "execution_count": null,
   "metadata": {},
   "outputs": [],
   "source": [
    "'''\n",
    "Your Code\n",
    "'''\n",
    "# title, author, time for baseball ----------------------------\n",
    "url = 'https://www.ptt.cc/bbs/Baseball/index.html'\n",
    "r = requests.get(url)\n",
    "\n",
    "soup = BeautifulSoup(r.text, \"html5lib\")\n",
    "print(type(soup))\n",
    "\n",
    "for d in soup.find_all(class_=\"title\"):\n",
    "    print(d.text.replace('\\t', '').replace('\\n', ''))\n",
    "    try:\n",
    "        newHTML='https://www.ptt.cc'+d.find('a')['href']\n",
    "        newR=requests.get(newHTML)\n",
    "        newSoup = BeautifulSoup(newR.text, \"html5lib\")\n",
    "        print('作者: ' + newSoup.find(class_='article-meta-value').text)\n",
    "    except:\n",
    "        continue\n"
   ]
  }
 ],
 "metadata": {
  "kernelspec": {
   "display_name": "Python 3",
   "language": "python",
   "name": "python3"
  },
  "language_info": {
   "codemirror_mode": {
    "name": "ipython",
    "version": 3
   },
   "file_extension": ".py",
   "mimetype": "text/x-python",
   "name": "python",
   "nbconvert_exporter": "python",
   "pygments_lexer": "ipython3",
   "version": "3.7.3"
  }
 },
 "nbformat": 4,
 "nbformat_minor": 4
}
