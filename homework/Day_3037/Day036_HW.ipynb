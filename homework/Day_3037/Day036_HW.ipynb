{
 "cells": [
  {
   "cell_type": "markdown",
   "metadata": {},
   "source": [
    "# 加速：非同步爬蟲\n",
    "\n",
    "* 了解非同步爬蟲加速原理與實作"
   ]
  },
  {
   "cell_type": "markdown",
   "metadata": {},
   "source": [
    "## 作業目標\n",
    "\n",
    "* 比較一下非同步爬蟲跟多線程爬蟲的差異是什麼？各自的優缺點為何？"
   ]
  },
  {
   "cell_type": "code",
   "execution_count": 1,
   "metadata": {
    "scrolled": true
   },
   "outputs": [
    {
     "data": {
      "text/plain": [
       "'\\nYour Input\\n'"
      ]
     },
     "execution_count": 1,
     "metadata": {},
     "output_type": "execute_result"
    }
   ],
   "source": [
    "同步或者非同步是針對於時間軸的概念。同步意味著順序、統一的時間軸，而非同步則意味著亂序、效率優先的時間軸。\n",
    "採用非同步程式設計可以提高程式執行效率，減少不必要的等待時間。\n",
    "如 A1 和 A2是2個獨立頁面, 在處理 A1 網路請求的時間裡，與其讓 CPU 空閒而 A2 等在後面，不如也處理 A2網路請求。誰先完成網路請求, 誰就先來進行處理。\n",
    "這樣可以更加充分地利用 CPU。A1, A2 處裡順序不確定, 非同步。\n",
    "\n",
    "執行多個 threads 是作業系統的任務排程系統來決定什麼時候執行這個任務，什麼時候切換任務。\n",
    "\n",
    "非同步程式設計與之不同的是只使用一個程式, 不使用 threads，但是也能實現同時執行多個任務。還有排程是程式自己完成的, 可以y自己暫停，把執行的權利交給其他函式。\n",
    "非同步程式碼裡面不能用任何會 block 的函式。若一個地方有 block, 整個程式都會 block。\n",
    "但 thread 作業系統來幫你排程, 不會因為一個 thread block, 影響其他程式執行。"
   ]
  },
  {
   "cell_type": "code",
   "execution_count": null,
   "metadata": {},
   "outputs": [],
   "source": []
  }
 ],
 "metadata": {
  "colab": {
   "name": "homework.ipynb",
   "provenance": []
  },
  "kernelspec": {
   "display_name": "Python 3",
   "language": "python",
   "name": "python3"
  },
  "language_info": {
   "codemirror_mode": {
    "name": "ipython",
    "version": 3
   },
   "file_extension": ".py",
   "mimetype": "text/x-python",
   "name": "python",
   "nbconvert_exporter": "python",
   "pygments_lexer": "ipython3",
   "version": "3.7.4"
  }
 },
 "nbformat": 4,
 "nbformat_minor": 4
}
