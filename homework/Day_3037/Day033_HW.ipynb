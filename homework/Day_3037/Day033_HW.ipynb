{
 "cells": [
  {
   "cell_type": "markdown",
   "metadata": {},
   "source": [
    "# 反爬：登入授權模擬\n",
    "\n",
    "* 了解「登入權限機制」的反爬蟲機制\n",
    "* 「登入權限機制」反爬蟲的因應策略"
   ]
  },
  {
   "cell_type": "markdown",
   "metadata": {},
   "source": [
    "## 作業目標\n",
    "\n",
    "* 找一個需要登入的網站試試看，並說明思考流程\n",
    "（如果不知道要用哪個網站的話，可以試試看 https://github.com/new 網址，未登入時會被導向登入頁）\n",
    "\n"
   ]
  },
  {
   "cell_type": "code",
   "execution_count": null,
   "metadata": {},
   "outputs": [],
   "source": [
    "# -*- coding: utf-8 -*-\n",
    "import re\n",
    "import requests\n",
    "from bs4 import BeautifulSoup\n",
    "\n",
    "headers = {\n",
    "    'User-Agent': 'Mozilla/5.0 (Macintosh; Intel Mac OS X 10_14_2) AppleWebKit/537.36 (KHTML, like Gecko) Chrome/71.0.3578.98 Safari/537.36',\n",
    "    'Referer': 'https://github.com/',\n",
    "    'Host': 'github.com'\n",
    "}\n",
    "\n",
    "login_url = 'https://github.com/login'\n",
    "rs = requests.session()\n",
    "res=rs.get(login_url, headers=headers)\n",
    "\n",
    "if res.status_code != 200:\n",
    "    print('Get token fail')\n",
    "    \n",
    "if res.status_code == 200:\n",
    "    match = re.search(\n",
    "        r'name=\"authenticity_token\" value=\"(.*?)\"', res.text)\n",
    "    if match:\n",
    "        print(match.group(1))\n",
    "        token=match.group(1)\n",
    "\n",
    "post_data = {\n",
    "    'commit': 'Sign in',\n",
    "    'utf8': '✓',\n",
    "    'authenticity_token': token,\n",
    "    'login': 'casey.cardinal@hotmail.com.tw',\n",
    "    'password': 'Casy533286'\n",
    "    }\n",
    "post_url = 'https://github.com/session'\n",
    "        \n",
    "resp = rs.post(post_url, data=post_data, headers=headers)\n",
    "print('StatusCode:', resp.status_code)\n",
    "if resp.status_code != 200:\n",
    "    print('Login Fail')\n",
    "    \n",
    "if resp.status_code == 200:\n",
    "    match = re.search(r'\"user-login\" content=\"(.*?)\"', resp.text)\n",
    "    user_name = match.group(1)\n",
    "    print('UserName:', user_name)\n",
    "    soup = BeautifulSoup(resp.text,'html.parser')\n",
    "    print(soup.text)\n",
    "    "
   ]
  },
  {
   "cell_type": "code",
   "execution_count": null,
   "metadata": {},
   "outputs": [],
   "source": []
  }
 ],
 "metadata": {
  "kernelspec": {
   "display_name": "Python 3",
   "language": "python",
   "name": "python3"
  },
  "language_info": {
   "codemirror_mode": {
    "name": "ipython",
    "version": 3
   },
   "file_extension": ".py",
   "mimetype": "text/x-python",
   "name": "python",
   "nbconvert_exporter": "python",
   "pygments_lexer": "ipython3",
   "version": "3.7.4"
  }
 },
 "nbformat": 4,
 "nbformat_minor": 4
}
