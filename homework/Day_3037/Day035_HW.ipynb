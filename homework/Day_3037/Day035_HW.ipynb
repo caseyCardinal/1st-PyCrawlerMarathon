{
 "cells": [
  {
   "cell_type": "markdown",
   "metadata": {},
   "source": [
    "# 加速：多線程爬蟲\n",
    "\n",
    "\n",
    "\n",
    "* 了解知乎 API 使用方式與回傳內容\n",
    "* 撰寫程式存取 API 且添加標頭"
   ]
  },
  {
   "cell_type": "markdown",
   "metadata": {},
   "source": [
    "## 作業目標\n",
    "\n",
    "* 找一個之前實作過的爬蟲改用多線程改寫，比較前後時間的差異。\n",
    "\n",
    "\n",
    "\n"
   ]
  },
  {
   "cell_type": "code",
   "execution_count": 1,
   "metadata": {},
   "outputs": [
    {
     "data": {
      "text/plain": [
       "'\\nYour Code\\n'"
      ]
     },
     "execution_count": 1,
     "metadata": {},
     "output_type": "execute_result"
    }
   ],
   "source": [
    "# -*- coding: utf-8 -*-\n",
    "\"\"\"\n",
    "Spyder Editor\n",
    "\n",
    "This is a temporary script file.\n",
    "\"\"\"\n",
    "import requests\n",
    "import os\n",
    "from bs4 import BeautifulSoup\n",
    "from PIL import Image\n",
    "import time\n",
    "\n",
    "# single thread ---------------------------------------------------------------\n",
    "strtTime = time.time()\n",
    "\n",
    "url = 'https://www.ptt.cc/bbs/Beauty/M.1556291059.A.75A.html'\n",
    "resp = requests.get(url, cookies={'over18': '1'})\n",
    "soup = BeautifulSoup(resp.text)\n",
    "\n",
    "output_dir = 'day035'\n",
    "if not os.path.exists(output_dir):\n",
    "         os.makedirs(output_dir)\n",
    "         \n",
    "image_tags = soup.find(id='main-content').findChildren('a', recursive=False)\n",
    "for img_tag in image_tags:\n",
    "    if 'imgur' not in img_tag['href']:\n",
    "        continue\n",
    "    img_id = img_tag['href'].split('/')[-1]\n",
    "    img_url = 'https://i.imgur.com/{}.jpg'.format(img_id)\n",
    "    with requests.get(img_url, stream=True) as r:\n",
    "        r.raise_for_status()\n",
    "        img = Image.open(r.raw)\n",
    "        imgFmt=img.format.lower()\n",
    "        if (imgFmt!='jpeg'):\n",
    "            continue\n",
    "        img_savename = '{outdir}/{img_id}.{imgFmt}'.format(\n",
    "            outdir=output_dir, img_id=img_id, imgFmt=imgFmt)\n",
    "        img.save(img_savename)\n",
    "        print('Save {} file: {}'.format(imgFmt, img_savename))\n",
    "\n",
    "endTime = time.time()\n",
    "print(endTime - startTime)\n",
    "\n",
    "# multi  thread ---------------------------------------------------------------\n",
    "import _thread\n",
    "\n",
    "def imgurl_req(imgurl, id):\n",
    "    with requests.get(imgurl, stream=True) as r:\n",
    "        r.raise_for_status()\n",
    "        img = Image.open(r.raw)\n",
    "        imgFmt=img.format.lower()\n",
    "        if (imgFmt=='jpeg'):\n",
    "            img_savename = '{outdir}/{img_id}.{imgFmt}'.format(\n",
    "                outdir=output_dir, img_id=id, imgFmt=imgFmt)\n",
    "            img.save(img_savename)\n",
    "            print('Save {} file: {}'.format(imgFmt, img_savename))\n",
    "\n",
    "strtTime = time.time()\n",
    "\n",
    "url = 'https://www.ptt.cc/bbs/Beauty/M.1556291059.A.75A.html'\n",
    "resp = requests.get(url, cookies={'over18': '1'})\n",
    "soup = BeautifulSoup(resp.text)\n",
    "\n",
    "output_dir = 'day035'\n",
    "if not os.path.exists(output_dir):\n",
    "         os.makedirs(output_dir)\n",
    " \n",
    "image_tags = soup.find(id='main-content').findChildren('a', recursive=False)\n",
    "for img_tag in image_tags:\n",
    "    if 'imgur' not in img_tag['href']:\n",
    "        continue\n",
    "    img_id = img_tag['href'].split('/')[-1]\n",
    "    img_url = 'https://i.imgur.com/{}.jpg'.format(img_id)\n",
    "    _thread.start_new_thread( imgurl_req, (img_url, img_id) )\n",
    "\n",
    "endTime = time.time()\n",
    "print(endTime - startTime)"
   ]
  },
  {
   "cell_type": "code",
   "execution_count": null,
   "metadata": {},
   "outputs": [],
   "source": [
    "single thread: 1272.8367352485657"
   ]
  },
  {
   "cell_type": "code",
   "execution_count": null,
   "metadata": {},
   "outputs": [],
   "source": []
  }
 ],
 "metadata": {
  "colab": {
   "name": "homework.ipynb",
   "provenance": []
  },
  "kernelspec": {
   "display_name": "Python 3",
   "language": "python",
   "name": "python3"
  },
  "language_info": {
   "codemirror_mode": {
    "name": "ipython",
    "version": 3
   },
   "file_extension": ".py",
   "mimetype": "text/x-python",
   "name": "python",
   "nbconvert_exporter": "python",
   "pygments_lexer": "ipython3",
   "version": "3.7.4"
  }
 },
 "nbformat": 4,
 "nbformat_minor": 4
}
